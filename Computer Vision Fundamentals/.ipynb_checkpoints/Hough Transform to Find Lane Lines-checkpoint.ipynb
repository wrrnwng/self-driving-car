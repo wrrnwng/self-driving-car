{
 "cells": [
  {
   "cell_type": "markdown",
   "metadata": {},
   "source": [
    "### Implementing a Hough Transform on Edge Detected Image\n",
    "[Implementing Hough Transform from scratch](https://alyssaq.github.io/2014/understanding-hough-transform/)\n",
    "```\n",
    "lines = cv2.HoughLinesP(masked_edges, rho, theta, threshold, np.array([]),\n",
    "                        min_line_length, max_line_gap)\n",
    "```\n",
    "`rho` and `theta` are the distance and angular resolution of our grid in Hough space. In Hough space, we have a grid laid out along the ($\\theta$, $\\rho$) axis. Specify `rho` in pixels and `theta` in radians."
   ]
  },
  {
   "cell_type": "code",
   "execution_count": 1,
   "metadata": {},
   "outputs": [],
   "source": [
    "import matplotlib.pyplot as plt\n",
    "import matplotlib.image as mpimg\n",
    "import numpy as np\n",
    "import cv2"
   ]
  },
  {
   "cell_type": "code",
   "execution_count": 4,
   "metadata": {},
   "outputs": [],
   "source": [
    "image = mpimg.imread('exit-ramp.jpg')\n",
    "gray = cv2.cvtColor(image, cv2.COLOR_RGB2GRAY)\n",
    "\n",
    "kernel_size = 5\n",
    "blur_gray = cv2.GaussianBlur(gray, (kernel_size, kernel_size), 0)\n",
    "\n",
    "low_threshold = 50\n",
    "high_threshold = 150\n",
    "masked_edges = cv2.Canny(blur_gray, low_threshold, high_threshold)"
   ]
  },
  {
   "cell_type": "code",
   "execution_count": 5,
   "metadata": {},
   "outputs": [],
   "source": [
    "# Define the Hough transform parameters\n",
    "# Create blank image of the same size\n",
    "rho = 1\n",
    "theta = np.pi / 180\n",
    "threshold = 1\n",
    "min_line_length = 10\n",
    "max_line_gap = 1\n",
    "line_image = np.copy(image) * 0"
   ]
  },
  {
   "cell_type": "code",
   "execution_count": 6,
   "metadata": {},
   "outputs": [],
   "source": [
    "# Run Hough on edge detected image\n",
    "lines = cv2.HoughLinesP(masked_edges, rho, theta, threshold,\n",
    "                        np.array([]), min_line_length, max_line_gap)"
   ]
  },
  {
   "cell_type": "code",
   "execution_count": 7,
   "metadata": {},
   "outputs": [],
   "source": [
    "for line in lines:\n",
    "    for x1, y1, x2, y2 in line:\n",
    "        cv2.line(line_image, (x1, y1), (x2, y2), (255, 0, 0), 10)"
   ]
  },
  {
   "cell_type": "code",
   "execution_count": 8,
   "metadata": {},
   "outputs": [
    {
     "data": {
      "text/plain": [
       "<matplotlib.image.AxesImage at 0x1167b8080>"
      ]
     },
     "execution_count": 8,
     "metadata": {},
     "output_type": "execute_result"
    },
    {
     "data": {
      "image/png": "[encoded data removed]",
      "text/plain": [
       "<matplotlib.figure.Figure at 0x11b8b9ef0>"
      ]
     },
     "metadata": {},
     "output_type": "display_data"
    }
   ],
   "source": [
    "color_edges = np.dstack((masked_edges, masked_edges, masked_edges))\n",
    "\n",
    "combo = cv2.addWeighted(color_edges, 0.8, line_image, 1, 0)\n",
    "\n",
    "plt.imshow(combo)"
   ]
  }
 ],
 "metadata": {
  "kernelspec": {
   "display_name": "Python 3",
   "language": "python",
   "name": "python3"
  },
  "language_info": {
   "codemirror_mode": {
    "name": "ipython",
    "version": 3
   },
   "file_extension": ".py",
   "mimetype": "text/x-python",
   "name": "python",
   "nbconvert_exporter": "python",
   "pygments_lexer": "ipython3",
   "version": "3.6.4"
  }
 },
 "nbformat": 4,
 "nbformat_minor": 2
}
